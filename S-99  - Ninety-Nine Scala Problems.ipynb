{
 "cells": [
  {
   "cell_type": "markdown",
   "metadata": {},
   "source": [
    "[scala's 99 problems](http://aperiodic.net/phil/scala/s-99/ \"scala's 99 problems\")"
   ]
  },
  {
   "cell_type": "markdown",
   "metadata": {},
   "source": [
    "# ========== Working with lists =========="
   ]
  },
  {
   "cell_type": "markdown",
   "metadata": {},
   "source": [
    "# P01 (*) Find the last element of a list."
   ]
  },
  {
   "cell_type": "code",
   "execution_count": 24,
   "metadata": {},
   "outputs": [
    {
     "data": {
      "text/plain": [
       "defined \u001b[32mfunction\u001b[39m \u001b[36mlast\u001b[39m"
      ]
     },
     "execution_count": 24,
     "metadata": {},
     "output_type": "execute_result"
    }
   ],
   "source": [
    "def last[A](list: List[A]): A = list match {\n",
    "    case x::Nil => x\n",
    "    case x::xs   => last(xs)\n",
    "    // case _ => throw new RuntimeException\n",
    "    case _ => sys.error(\"last isn't defined empty list\")\n",
    "}"
   ]
  },
  {
   "cell_type": "code",
   "execution_count": 181,
   "metadata": {},
   "outputs": [
    {
     "data": {
      "text/plain": [
       "\u001b[36mres180\u001b[39m: \u001b[32mInt\u001b[39m = \u001b[32m8\u001b[39m"
      ]
     },
     "execution_count": 181,
     "metadata": {},
     "output_type": "execute_result"
    }
   ],
   "source": [
    "last(List(1, 1, 2, 3, 5, 8))\n",
    "// res0: Int = 8"
   ]
  },
  {
   "cell_type": "code",
   "execution_count": 16,
   "metadata": {},
   "outputs": [
    {
     "ename": "",
     "evalue": "",
     "output_type": "error",
     "traceback": [
      "\u001b[31mjava.lang.RuntimeException: last isn't defined empty list\u001b[39m",
      "  scala.sys.package$.error(\u001b[32mpackage.scala\u001b[39m:\u001b[32m27\u001b[39m)",
      "  $sess.cmd13Wrapper$Helper.last(\u001b[32mcmd13.sc\u001b[39m:\u001b[32m5\u001b[39m)",
      "  $sess.cmd15Wrapper$Helper.<init>(\u001b[32mcmd15.sc\u001b[39m:\u001b[32m1\u001b[39m)",
      "  $sess.cmd15Wrapper.<init>(\u001b[32mcmd15.sc\u001b[39m:\u001b[32m137\u001b[39m)",
      "  $sess.cmd15$.<init>(\u001b[32mcmd15.sc\u001b[39m:\u001b[32m91\u001b[39m)",
      "  $sess.cmd15$.<clinit>(\u001b[32mcmd15.sc\u001b[39m:\u001b[32m-1\u001b[39m)"
     ]
    }
   ],
   "source": [
    "last(List())"
   ]
  },
  {
   "cell_type": "markdown",
   "metadata": {},
   "source": [
    "# P02 (*) Find the last but one element of a list."
   ]
  },
  {
   "cell_type": "code",
   "execution_count": 23,
   "metadata": {},
   "outputs": [
    {
     "data": {
      "text/plain": [
       "defined \u001b[32mfunction\u001b[39m \u001b[36mpenultimate\u001b[39m"
      ]
     },
     "execution_count": 23,
     "metadata": {},
     "output_type": "execute_result"
    }
   ],
   "source": [
    "def penultimate[A](list: List[A]): A = list match {\n",
    "    case x::y::Nil => x\n",
    "    case x::xs => penultimate(xs)\n",
    "    // case _ => throw new RuntimeException\n",
    "    case _ => sys.error(\"penultimate isn't defined one or less list\")\n",
    "}"
   ]
  },
  {
   "cell_type": "code",
   "execution_count": 182,
   "metadata": {},
   "outputs": [
    {
     "data": {
      "text/plain": [
       "\u001b[36mres181\u001b[39m: \u001b[32mInt\u001b[39m = \u001b[32m5\u001b[39m"
      ]
     },
     "execution_count": 182,
     "metadata": {},
     "output_type": "execute_result"
    }
   ],
   "source": [
    "penultimate(List(1, 1, 2, 3, 5, 8))\n",
    "// res0: Int = 5"
   ]
  },
  {
   "cell_type": "code",
   "execution_count": 22,
   "metadata": {},
   "outputs": [
    {
     "ename": "",
     "evalue": "",
     "output_type": "error",
     "traceback": [
      "\u001b[31mjava.lang.RuntimeException: penultimate isn't defined empty list\u001b[39m",
      "  scala.sys.package$.error(\u001b[32mpackage.scala\u001b[39m:\u001b[32m27\u001b[39m)",
      "  $sess.cmd17Wrapper$Helper.penultimate(\u001b[32mcmd17.sc\u001b[39m:\u001b[32m5\u001b[39m)",
      "  $sess.cmd21Wrapper$Helper.<init>(\u001b[32mcmd21.sc\u001b[39m:\u001b[32m1\u001b[39m)",
      "  $sess.cmd21Wrapper.<init>(\u001b[32mcmd21.sc\u001b[39m:\u001b[32m145\u001b[39m)",
      "  $sess.cmd21$.<init>(\u001b[32mcmd21.sc\u001b[39m:\u001b[32m95\u001b[39m)",
      "  $sess.cmd21$.<clinit>(\u001b[32mcmd21.sc\u001b[39m:\u001b[32m-1\u001b[39m)"
     ]
    }
   ],
   "source": [
    "penultimate(List(2))"
   ]
  },
  {
   "cell_type": "markdown",
   "metadata": {},
   "source": [
    "# P03 (*) Find the Kth element of a list."
   ]
  },
  {
   "cell_type": "code",
   "execution_count": 25,
   "metadata": {},
   "outputs": [
    {
     "data": {
      "text/plain": [
       "defined \u001b[32mfunction\u001b[39m \u001b[36mnth\u001b[39m"
      ]
     },
     "execution_count": 25,
     "metadata": {},
     "output_type": "execute_result"
    }
   ],
   "source": [
    "def nth[A](n: Int, list: List[A]): A = list match {\n",
    "    case x::xs if (n == 0) => x\n",
    "    case x::xs if (n > 0) => nth(n-1, xs)\n",
    "    case _ => sys.error(\"something wrong\")\n",
    "}"
   ]
  },
  {
   "cell_type": "code",
   "execution_count": 183,
   "metadata": {},
   "outputs": [
    {
     "data": {
      "text/plain": [
       "\u001b[36mres182\u001b[39m: \u001b[32mInt\u001b[39m = \u001b[32m2\u001b[39m"
      ]
     },
     "execution_count": 183,
     "metadata": {},
     "output_type": "execute_result"
    }
   ],
   "source": [
    "nth(2, List(1, 1, 2, 3, 5, 8))\n",
    "// res0: Int = 2"
   ]
  },
  {
   "cell_type": "code",
   "execution_count": 32,
   "metadata": {},
   "outputs": [
    {
     "data": {
      "text/plain": [
       "\u001b[36mres31\u001b[39m: \u001b[32mInt\u001b[39m = \u001b[32m5\u001b[39m"
      ]
     },
     "execution_count": 32,
     "metadata": {},
     "output_type": "execute_result"
    }
   ],
   "source": [
    "nth(2, List(3, 4, 5))"
   ]
  },
  {
   "cell_type": "markdown",
   "metadata": {},
   "source": [
    "# P04 (*) Find the number of elements of a list."
   ]
  },
  {
   "cell_type": "code",
   "execution_count": 31,
   "metadata": {},
   "outputs": [
    {
     "data": {
      "text/plain": [
       "defined \u001b[32mfunction\u001b[39m \u001b[36mlength\u001b[39m"
      ]
     },
     "execution_count": 31,
     "metadata": {},
     "output_type": "execute_result"
    }
   ],
   "source": [
    "def length[A](list: List[A]): Int = {\n",
    "    def loop[A](list: List[A], acc: Int): Int = list match {\n",
    "        case x::xs => loop(xs, acc+1)\n",
    "        case Nil => acc\n",
    "        case _ => sys.error(\"wrong\")\n",
    "    }\n",
    "    loop(list, 0)\n",
    "}"
   ]
  },
  {
   "cell_type": "code",
   "execution_count": 184,
   "metadata": {},
   "outputs": [
    {
     "data": {
      "text/plain": [
       "\u001b[36mres183\u001b[39m: \u001b[32mInt\u001b[39m = \u001b[32m6\u001b[39m"
      ]
     },
     "execution_count": 184,
     "metadata": {},
     "output_type": "execute_result"
    }
   ],
   "source": [
    "length(List(1, 1, 2, 3, 5, 8))\n",
    "// res0: Int = 6"
   ]
  },
  {
   "cell_type": "markdown",
   "metadata": {},
   "source": [
    "# P05 (*) Reverse a list."
   ]
  },
  {
   "cell_type": "code",
   "execution_count": 42,
   "metadata": {},
   "outputs": [
    {
     "data": {
      "text/plain": [
       "defined \u001b[32mfunction\u001b[39m \u001b[36mreverse\u001b[39m"
      ]
     },
     "execution_count": 42,
     "metadata": {},
     "output_type": "execute_result"
    }
   ],
   "source": [
    "def reverse[A](list: List[A]): List[A] = {\n",
    "    \n",
    "    def loop[A](list: List[A], acc: List[A]): List[A] = list match {\n",
    "        case x::xs => loop(xs, x::acc)\n",
    "        case Nil => acc\n",
    "    }\n",
    "    \n",
    "    loop(list, Nil)\n",
    "}"
   ]
  },
  {
   "cell_type": "code",
   "execution_count": 185,
   "metadata": {},
   "outputs": [
    {
     "data": {
      "text/plain": [
       "\u001b[36mres184\u001b[39m: \u001b[32mList\u001b[39m[\u001b[32mInt\u001b[39m] = \u001b[33mList\u001b[39m(\u001b[32m8\u001b[39m, \u001b[32m5\u001b[39m, \u001b[32m3\u001b[39m, \u001b[32m2\u001b[39m, \u001b[32m1\u001b[39m, \u001b[32m1\u001b[39m)"
      ]
     },
     "execution_count": 185,
     "metadata": {},
     "output_type": "execute_result"
    }
   ],
   "source": [
    "reverse(List(1, 1, 2, 3, 5, 8))\n",
    "//res0: List[Int] = List(8, 5, 3, 2, 1, 1)"
   ]
  },
  {
   "cell_type": "markdown",
   "metadata": {},
   "source": [
    "# P06 (*) Find out whether a list is a palindrome."
   ]
  },
  {
   "cell_type": "code",
   "execution_count": 44,
   "metadata": {},
   "outputs": [
    {
     "data": {
      "text/plain": [
       "defined \u001b[32mfunction\u001b[39m \u001b[36misPalindrome\u001b[39m"
      ]
     },
     "execution_count": 44,
     "metadata": {},
     "output_type": "execute_result"
    }
   ],
   "source": [
    "def isPalindrome[A](list: List[A]): Boolean = {\n",
    "    list == reverse(list)\n",
    "}"
   ]
  },
  {
   "cell_type": "code",
   "execution_count": 186,
   "metadata": {},
   "outputs": [
    {
     "data": {
      "text/plain": [
       "\u001b[36mres185\u001b[39m: \u001b[32mBoolean\u001b[39m = \u001b[32mtrue\u001b[39m"
      ]
     },
     "execution_count": 186,
     "metadata": {},
     "output_type": "execute_result"
    }
   ],
   "source": [
    "isPalindrome(List(1, 2, 3, 2, 1))\n",
    "// res0: Boolean = true"
   ]
  },
  {
   "cell_type": "code",
   "execution_count": 187,
   "metadata": {},
   "outputs": [
    {
     "data": {
      "text/plain": [
       "\u001b[36mres186\u001b[39m: \u001b[32mBoolean\u001b[39m = \u001b[32mfalse\u001b[39m"
      ]
     },
     "execution_count": 187,
     "metadata": {},
     "output_type": "execute_result"
    }
   ],
   "source": [
    "isPalindrome(List(1,2,3,44,5,5))"
   ]
  },
  {
   "cell_type": "markdown",
   "metadata": {},
   "source": [
    "# P07 (**) Flatten a nested list structure."
   ]
  },
  {
   "cell_type": "code",
   "execution_count": 52,
   "metadata": {},
   "outputs": [
    {
     "data": {
      "text/plain": [
       "defined \u001b[32mfunction\u001b[39m \u001b[36mflatten\u001b[39m"
      ]
     },
     "execution_count": 52,
     "metadata": {},
     "output_type": "execute_result"
    }
   ],
   "source": [
    "def flatten(list: List[Any]): List[Any] = list match {\n",
    "    case (x: List[Any])::xs => flatten(x):::flatten(xs)\n",
    "    case x::xs              => x::flatten(xs)\n",
    "    case Nil                => Nil\n",
    "}"
   ]
  },
  {
   "cell_type": "code",
   "execution_count": 188,
   "metadata": {},
   "outputs": [
    {
     "data": {
      "text/plain": [
       "\u001b[36mres187\u001b[39m: \u001b[32mList\u001b[39m[\u001b[32mAny\u001b[39m] = \u001b[33mList\u001b[39m(1, 1, 2, 3, 5, 8)"
      ]
     },
     "execution_count": 188,
     "metadata": {},
     "output_type": "execute_result"
    }
   ],
   "source": [
    "flatten(List(List(1, 1), 2, List(3, List(5, 8))))\n",
    "// res0: List[Any] = List(1, 1, 2, 3, 5, 8)"
   ]
  },
  {
   "cell_type": "markdown",
   "metadata": {},
   "source": [
    "# P08 (**) Eliminate consecutive duplicates of list elements."
   ]
  },
  {
   "cell_type": "code",
   "execution_count": 62,
   "metadata": {},
   "outputs": [
    {
     "data": {
      "text/plain": [
       "defined \u001b[32mfunction\u001b[39m \u001b[36mcompress\u001b[39m"
      ]
     },
     "execution_count": 62,
     "metadata": {},
     "output_type": "execute_result"
    }
   ],
   "source": [
    "def compress[A](list: List[A]): List[A] = list match {\n",
    "    case x::y::xs if(x == y) => compress(x::xs)\n",
    "    case x::xs    => x::compress(xs)\n",
    "    case Nil   => Nil\n",
    "}"
   ]
  },
  {
   "cell_type": "code",
   "execution_count": 189,
   "metadata": {},
   "outputs": [
    {
     "data": {
      "text/plain": [
       "\u001b[36mres188\u001b[39m: \u001b[32mList\u001b[39m[\u001b[32mSymbol\u001b[39m] = \u001b[33mList\u001b[39m(\u001b[32m'a\u001b[39m, \u001b[32m'b\u001b[39m, \u001b[32m'c\u001b[39m, \u001b[32m'a\u001b[39m, \u001b[32m'd\u001b[39m, \u001b[32m'e\u001b[39m)"
      ]
     },
     "execution_count": 189,
     "metadata": {},
     "output_type": "execute_result"
    }
   ],
   "source": [
    "compress(List('a, 'a, 'a, 'a, 'b, 'c, 'c, 'a, 'a, 'd, 'e, 'e, 'e, 'e))\n",
    "//res0: List[Symbol] = List('a, 'b, 'c, 'a, 'd, 'e)"
   ]
  },
  {
   "cell_type": "code",
   "execution_count": 207,
   "metadata": {},
   "outputs": [
    {
     "data": {
      "text/plain": [
       "\u001b[36mres206\u001b[39m: \u001b[32mList\u001b[39m[\u001b[32mChar\u001b[39m] = \u001b[33mList\u001b[39m(\u001b[32m'a'\u001b[39m)"
      ]
     },
     "execution_count": 207,
     "metadata": {},
     "output_type": "execute_result"
    }
   ],
   "source": [
    "compress(List('a'))"
   ]
  },
  {
   "cell_type": "markdown",
   "metadata": {},
   "source": [
    "# P09 (**) Pack consecutive duplicates of list elements into sublists."
   ]
  },
  {
   "cell_type": "code",
   "execution_count": 66,
   "metadata": {},
   "outputs": [
    {
     "data": {
      "text/plain": [
       "defined \u001b[32mfunction\u001b[39m \u001b[36mpack\u001b[39m"
      ]
     },
     "execution_count": 66,
     "metadata": {},
     "output_type": "execute_result"
    }
   ],
   "source": [
    "def pack[A](list: List[A]): List[List[A]] = {\n",
    "    \n",
    "    list.foldRight(Nil: List[List[A]]) { (e, ls) =>\n",
    "        ls match {\n",
    "            case (x @ `e` :: _) :: xs => (e :: x) :: xs\n",
    "            case _                    => List(e) :: ls\n",
    "        }\n",
    "    }\n",
    "    \n",
    "}"
   ]
  },
  {
   "cell_type": "code",
   "execution_count": 190,
   "metadata": {},
   "outputs": [
    {
     "data": {
      "text/plain": [
       "\u001b[36mres189\u001b[39m: \u001b[32mList\u001b[39m[\u001b[32mList\u001b[39m[\u001b[32mSymbol\u001b[39m]] = \u001b[33mList\u001b[39m(\n",
       "  \u001b[33mList\u001b[39m(\u001b[32m'a\u001b[39m, \u001b[32m'a\u001b[39m, \u001b[32m'a\u001b[39m, \u001b[32m'a\u001b[39m),\n",
       "  \u001b[33mList\u001b[39m(\u001b[32m'b\u001b[39m),\n",
       "  \u001b[33mList\u001b[39m(\u001b[32m'c\u001b[39m, \u001b[32m'c\u001b[39m),\n",
       "  \u001b[33mList\u001b[39m(\u001b[32m'a\u001b[39m, \u001b[32m'a\u001b[39m),\n",
       "  \u001b[33mList\u001b[39m(\u001b[32m'd\u001b[39m),\n",
       "  \u001b[33mList\u001b[39m(\u001b[32m'e\u001b[39m, \u001b[32m'e\u001b[39m, \u001b[32m'e\u001b[39m, \u001b[32m'e\u001b[39m)\n",
       ")"
      ]
     },
     "execution_count": 190,
     "metadata": {},
     "output_type": "execute_result"
    }
   ],
   "source": [
    "pack(List('a, 'a, 'a, 'a, 'b, 'c, 'c, 'a, 'a, 'd, 'e, 'e, 'e, 'e))\n",
    "// res0: List[List[Symbol]] = List(List('a, 'a, 'a, 'a), List('b), List('c, 'c), List('a, 'a), List('d), List('e, 'e, 'e, 'e))"
   ]
  },
  {
   "cell_type": "markdown",
   "metadata": {},
   "source": [
    "# P10 (*) Run-length encoding of a list."
   ]
  },
  {
   "cell_type": "code",
   "execution_count": 71,
   "metadata": {},
   "outputs": [
    {
     "data": {
      "text/plain": [
       "defined \u001b[32mfunction\u001b[39m \u001b[36mencode\u001b[39m"
      ]
     },
     "execution_count": 71,
     "metadata": {},
     "output_type": "execute_result"
    }
   ],
   "source": [
    "def encode[A](list: List[A]): List[Any] = {\n",
    "    pack(list).map(n => (length(n), n(0)))\n",
    "}"
   ]
  },
  {
   "cell_type": "code",
   "execution_count": 72,
   "metadata": {},
   "outputs": [
    {
     "data": {
      "text/plain": [
       "\u001b[36mres71\u001b[39m: \u001b[32mList\u001b[39m[\u001b[32mAny\u001b[39m] = \u001b[33mList\u001b[39m((4,'a), (1,'b), (2,'c), (2,'a), (1,'d), (4,'e))"
      ]
     },
     "execution_count": 72,
     "metadata": {},
     "output_type": "execute_result"
    }
   ],
   "source": [
    "encode(List('a, 'a, 'a, 'a, 'b, 'c, 'c, 'a, 'a, 'd, 'e, 'e, 'e, 'e))\n",
    "// res0: List[(Int, Symbol)] = List((4,'a), (1,'b), (2,'c), (2,'a), (1,'d), (4,'e))"
   ]
  },
  {
   "cell_type": "markdown",
   "metadata": {},
   "source": [
    "# P11 (*) Modified run-length encoding."
   ]
  },
  {
   "cell_type": "code",
   "execution_count": 79,
   "metadata": {},
   "outputs": [
    {
     "data": {
      "text/plain": [
       "defined \u001b[32mfunction\u001b[39m \u001b[36mencodeModified\u001b[39m"
      ]
     },
     "execution_count": 79,
     "metadata": {},
     "output_type": "execute_result"
    }
   ],
   "source": [
    "def encodeModified[A](list: List[A]): List[Any] = {\n",
    "    pack(list).map(n => {\n",
    "        if (length(n) == 1) n.head\n",
    "        else (length(n), n.head)\n",
    "    })\n",
    "}"
   ]
  },
  {
   "cell_type": "code",
   "execution_count": 74,
   "metadata": {},
   "outputs": [
    {
     "data": {
      "text/plain": [
       "\u001b[36mres73\u001b[39m: \u001b[32mList\u001b[39m[\u001b[32mAny\u001b[39m] = \u001b[33mList\u001b[39m((4,'a), 'b, (2,'c), (2,'a), 'd, (4,'e))"
      ]
     },
     "execution_count": 74,
     "metadata": {},
     "output_type": "execute_result"
    }
   ],
   "source": [
    "encodeModified(List('a, 'a, 'a, 'a, 'b, 'c, 'c, 'a, 'a, 'd, 'e, 'e, 'e, 'e))\n",
    "// List[Any] = List((4,'a), 'b, (2,'c), (2,'a), 'd, (4,'e))"
   ]
  },
  {
   "cell_type": "markdown",
   "metadata": {},
   "source": [
    "# P12 (**) Decode a run-length encoded list."
   ]
  },
  {
   "cell_type": "code",
   "execution_count": 100,
   "metadata": {},
   "outputs": [
    {
     "data": {
      "text/plain": [
       "defined \u001b[32mfunction\u001b[39m \u001b[36mdecode\u001b[39m"
      ]
     },
     "execution_count": 100,
     "metadata": {},
     "output_type": "execute_result"
    }
   ],
   "source": [
    "\n",
    "def decode[A](list: List[(Int, A)]): List[A] = {\n",
    "    \n",
    "    def copy[A](t: A, n: Int): List[A] = n match {\n",
    "        case 0          => List()\n",
    "        case n if n > 0 => t :: copy(t, n-1)\n",
    "        case _          => sys.error(\"\")\n",
    "    }\n",
    "    \n",
    "    list.flatMap(n => copy(n._2, n._1))\n",
    "}"
   ]
  },
  {
   "cell_type": "code",
   "execution_count": 101,
   "metadata": {},
   "outputs": [
    {
     "data": {
      "text/plain": [
       "\u001b[36mres100\u001b[39m: \u001b[32mList\u001b[39m[\u001b[32mSymbol\u001b[39m] = \u001b[33mList\u001b[39m(\u001b[32m'a\u001b[39m, \u001b[32m'a\u001b[39m, \u001b[32m'a\u001b[39m, \u001b[32m'a\u001b[39m, \u001b[32m'b\u001b[39m, \u001b[32m'c\u001b[39m, \u001b[32m'c\u001b[39m, \u001b[32m'a\u001b[39m, \u001b[32m'a\u001b[39m, \u001b[32m'd\u001b[39m, \u001b[32m'e\u001b[39m, \u001b[32m'e\u001b[39m, \u001b[32m'e\u001b[39m, \u001b[32m'e\u001b[39m)"
      ]
     },
     "execution_count": 101,
     "metadata": {},
     "output_type": "execute_result"
    }
   ],
   "source": [
    "decode(List((4, 'a), (1, 'b), (2, 'c), (2, 'a), (1, 'd), (4, 'e)))\n",
    "//res0: List[Symbol] = List('a, 'a, 'a, 'a, 'b, 'c, 'c, 'a, 'a, 'd, 'e, 'e, 'e, 'e)"
   ]
  },
  {
   "cell_type": "markdown",
   "metadata": {},
   "source": [
    "# P13 (**) Run-length encoding of a list (direct solution)."
   ]
  },
  {
   "cell_type": "code",
   "execution_count": 103,
   "metadata": {},
   "outputs": [
    {
     "data": {
      "text/plain": [
       "defined \u001b[32mfunction\u001b[39m \u001b[36mencodeDirect\u001b[39m"
      ]
     },
     "execution_count": 103,
     "metadata": {},
     "output_type": "execute_result"
    }
   ],
   "source": [
    "def encodeDirect[A](list: List[A]): List[Any] = {\n",
    "    \n",
    "    val packed = list.foldRight(Nil: List[List[A]]) {(e, ls) => \n",
    "        ls match {\n",
    "            case (x @ `e` :: _) :: xs => (e :: x) :: xs\n",
    "            case _                    => List(e) :: ls\n",
    "        }\n",
    "    }\n",
    "    packed.map(n => (length(n), n(0)))\n",
    "}\n",
    "\n"
   ]
  },
  {
   "cell_type": "code",
   "execution_count": 104,
   "metadata": {},
   "outputs": [
    {
     "data": {
      "text/plain": [
       "\u001b[36mres103\u001b[39m: \u001b[32mList\u001b[39m[\u001b[32mAny\u001b[39m] = \u001b[33mList\u001b[39m((4,'a), (1,'b), (2,'c), (2,'a), (1,'d), (4,'e))"
      ]
     },
     "execution_count": 104,
     "metadata": {},
     "output_type": "execute_result"
    }
   ],
   "source": [
    "encodeDirect(List('a, 'a, 'a, 'a, 'b, 'c, 'c, 'a, 'a, 'd, 'e, 'e, 'e, 'e))\n",
    "// res0: List[(Int, Symbol)] = List((4,'a), (1,'b), (2,'c), (2,'a), (1,'d), (4,'e))"
   ]
  },
  {
   "cell_type": "markdown",
   "metadata": {},
   "source": [
    "# P14 (*) Duplicate the elements of a list."
   ]
  },
  {
   "cell_type": "code",
   "execution_count": 105,
   "metadata": {},
   "outputs": [
    {
     "data": {
      "text/plain": [
       "defined \u001b[32mfunction\u001b[39m \u001b[36mduplicate\u001b[39m"
      ]
     },
     "execution_count": 105,
     "metadata": {},
     "output_type": "execute_result"
    }
   ],
   "source": [
    "def duplicate[A](list: List[A]): List[A] = {\n",
    "    list match {\n",
    "        case x::xs => x::x::duplicate(xs)\n",
    "        case Nil   => Nil\n",
    "    }\n",
    "}"
   ]
  },
  {
   "cell_type": "code",
   "execution_count": 106,
   "metadata": {},
   "outputs": [
    {
     "data": {
      "text/plain": [
       "\u001b[36mres105\u001b[39m: \u001b[32mList\u001b[39m[\u001b[32mSymbol\u001b[39m] = \u001b[33mList\u001b[39m(\u001b[32m'a\u001b[39m, \u001b[32m'a\u001b[39m, \u001b[32m'b\u001b[39m, \u001b[32m'b\u001b[39m, \u001b[32m'c\u001b[39m, \u001b[32m'c\u001b[39m, \u001b[32m'c\u001b[39m, \u001b[32m'c\u001b[39m, \u001b[32m'd\u001b[39m, \u001b[32m'd\u001b[39m)"
      ]
     },
     "execution_count": 106,
     "metadata": {},
     "output_type": "execute_result"
    }
   ],
   "source": [
    "duplicate(List('a, 'b, 'c, 'c, 'd))\n",
    "// res0: List[Symbol] = List('a, 'a, 'b, 'b, 'c, 'c, 'c, 'c, 'd, 'd)"
   ]
  },
  {
   "cell_type": "markdown",
   "metadata": {},
   "source": [
    "# P15 (**) Duplicate the elements of a list a given number of times."
   ]
  },
  {
   "cell_type": "code",
   "execution_count": null,
   "metadata": {},
   "outputs": [],
   "source": [
    "def duplicateN[A](n: Int, list: List[A]): List[A] = {\n",
    "    \n",
    "}"
   ]
  },
  {
   "cell_type": "code",
   "execution_count": null,
   "metadata": {},
   "outputs": [],
   "source": [
    "duplicateN(3, List('a, 'b, 'c, 'c, 'd))\n",
    "// res0: List[Symbol] = List('a, 'a, 'a, 'b, 'b, 'b, 'c, 'c, 'c, 'c, 'c, 'c, 'd, 'd, 'd)"
   ]
  },
  {
   "cell_type": "markdown",
   "metadata": {},
   "source": [
    "# P16 (**) Drop every Nth element from a list."
   ]
  },
  {
   "cell_type": "code",
   "execution_count": 128,
   "metadata": {},
   "outputs": [
    {
     "data": {
      "text/plain": [
       "defined \u001b[32mfunction\u001b[39m \u001b[36mdrop\u001b[39m"
      ]
     },
     "execution_count": 128,
     "metadata": {},
     "output_type": "execute_result"
    }
   ],
   "source": [
    "def drop[A](n: Int, list: List[A]): List[A] = {\n",
    "    var result: List[A] = List()\n",
    "    for (i <- 1 to list.length if(i % 3 != 0)) {\n",
    "        result = result :+ list(i-1)\n",
    "    }\n",
    "    result\n",
    "}"
   ]
  },
  {
   "cell_type": "code",
   "execution_count": 132,
   "metadata": {},
   "outputs": [
    {
     "data": {
      "text/plain": [
       "defined \u001b[32mfunction\u001b[39m \u001b[36manotherDrop\u001b[39m"
      ]
     },
     "execution_count": 132,
     "metadata": {},
     "output_type": "execute_result"
    }
   ],
   "source": [
    "def anotherDrop[T](nth: Int, list: List[T]): List[T] = {\n",
    "    def drop1(mth: Int, list: List[T]): List[T] = list match {\n",
    "        case x :: xs if mth == 1 => drop1(nth, xs)\n",
    "        case x :: xs if mth > 1  => x :: drop1(mth-1, xs)\n",
    "        case _                   => List[T]()\n",
    "    }\n",
    "    if (nth > 0) drop1(nth, list) else sys.error(\"\")\n",
    "}"
   ]
  },
  {
   "cell_type": "code",
   "execution_count": 129,
   "metadata": {},
   "outputs": [
    {
     "data": {
      "text/plain": [
       "\u001b[36mres128\u001b[39m: \u001b[32mList\u001b[39m[\u001b[32mSymbol\u001b[39m] = \u001b[33mList\u001b[39m(\u001b[32m'a\u001b[39m, \u001b[32m'b\u001b[39m, \u001b[32m'd\u001b[39m, \u001b[32m'e\u001b[39m, \u001b[32m'g\u001b[39m, \u001b[32m'h\u001b[39m, \u001b[32m'j\u001b[39m, \u001b[32m'k\u001b[39m)"
      ]
     },
     "execution_count": 129,
     "metadata": {},
     "output_type": "execute_result"
    }
   ],
   "source": [
    "drop(3, List('a, 'b, 'c, 'd, 'e, 'f, 'g, 'h, 'i, 'j, 'k))\n",
    "// res0: List[Symbol] = List('a, 'b, 'd, 'e, 'g, 'h, 'j, 'k)"
   ]
  },
  {
   "cell_type": "code",
   "execution_count": 133,
   "metadata": {},
   "outputs": [
    {
     "data": {
      "text/plain": [
       "\u001b[36mres132\u001b[39m: \u001b[32mList\u001b[39m[\u001b[32mSymbol\u001b[39m] = \u001b[33mList\u001b[39m(\u001b[32m'a\u001b[39m, \u001b[32m'b\u001b[39m, \u001b[32m'd\u001b[39m, \u001b[32m'e\u001b[39m, \u001b[32m'g\u001b[39m, \u001b[32m'h\u001b[39m, \u001b[32m'j\u001b[39m, \u001b[32m'k\u001b[39m)"
      ]
     },
     "execution_count": 133,
     "metadata": {},
     "output_type": "execute_result"
    }
   ],
   "source": [
    "anotherDrop(3, List('a, 'b, 'c, 'd, 'e, 'f, 'g, 'h, 'i, 'j, 'k))\n",
    "// res0: List[Symbol] = List('a, 'b, 'd, 'e, 'g, 'h, 'j, 'k)"
   ]
  },
  {
   "cell_type": "markdown",
   "metadata": {},
   "source": [
    "# P17 (*) Split a list into two parts."
   ]
  },
  {
   "cell_type": "code",
   "execution_count": 10,
   "metadata": {},
   "outputs": [
    {
     "data": {
      "text/plain": [
       "defined \u001b[32mfunction\u001b[39m \u001b[36msplit\u001b[39m"
      ]
     },
     "execution_count": 10,
     "metadata": {},
     "output_type": "execute_result"
    }
   ],
   "source": [
    "def split[A](n: Int, list: List[A]): List[List[A]] = {\n",
    "    \n",
    "    def loop[A](n: Int, list: List[A], acc: List[A]): List[List[A]] = {\n",
    "        n match {\n",
    "            case 0 => List(acc.reverse, list)\n",
    "            case n if n > 0 => loop(n-1, list.tail, list.head :: acc)\n",
    "            case _ => sys.error(\"\")\n",
    "        }\n",
    "    }\n",
    "    loop(n, list, Nil)\n",
    "}"
   ]
  },
  {
   "cell_type": "code",
   "execution_count": 138,
   "metadata": {},
   "outputs": [
    {
     "data": {
      "text/plain": [
       "\u001b[36mres137\u001b[39m: \u001b[32mList\u001b[39m[\u001b[32mList\u001b[39m[\u001b[32mSymbol\u001b[39m]] = \u001b[33mList\u001b[39m(\u001b[33mList\u001b[39m(\u001b[32m'a\u001b[39m, \u001b[32m'b\u001b[39m, \u001b[32m'c\u001b[39m), \u001b[33mList\u001b[39m(\u001b[32m'd\u001b[39m, \u001b[32m'e\u001b[39m, \u001b[32m'f\u001b[39m, \u001b[32m'g\u001b[39m, \u001b[32m'h\u001b[39m, \u001b[32m'i\u001b[39m, \u001b[32m'j\u001b[39m, \u001b[32m'k\u001b[39m))"
      ]
     },
     "execution_count": 138,
     "metadata": {},
     "output_type": "execute_result"
    }
   ],
   "source": [
    "split(3, List('a, 'b, 'c, 'd, 'e, 'f, 'g, 'h, 'i, 'j, 'k))\n",
    "// res0: (List[Symbol], List[Symbol]) = (List('a, 'b, 'c),List('d, 'e, 'f, 'g, 'h, 'i, 'j, 'k))"
   ]
  },
  {
   "cell_type": "markdown",
   "metadata": {},
   "source": [
    "# P18 (**) Extract a slice from a list."
   ]
  },
  {
   "cell_type": "code",
   "execution_count": 143,
   "metadata": {},
   "outputs": [
    {
     "data": {
      "text/plain": [
       "defined \u001b[32mfunction\u001b[39m \u001b[36mslice\u001b[39m"
      ]
     },
     "execution_count": 143,
     "metadata": {},
     "output_type": "execute_result"
    }
   ],
   "source": [
    "def slice[A](right: Int, left: Int, list: List[A]): List[A] = {\n",
    "    split(left-right, split(right, list)(1))(0)\n",
    "}"
   ]
  },
  {
   "cell_type": "code",
   "execution_count": 145,
   "metadata": {},
   "outputs": [
    {
     "data": {
      "text/plain": [
       "defined \u001b[32mfunction\u001b[39m \u001b[36mp18\u001b[39m"
      ]
     },
     "execution_count": 145,
     "metadata": {},
     "output_type": "execute_result"
    }
   ],
   "source": [
    "def p18[T](i: Int, k: Int, list: List[T]): List[T] = {\n",
    "    \n",
    "    def slice(i: Int, k: Int, list: List[T]): List[T] = list match {\n",
    "        case x :: xs if i > 0 => slice(i-1, k-1, xs)\n",
    "        case x :: xs if k > 0 => x :: slice(0, k-1, xs)\n",
    "        case _ if i == 0      => List[T]()\n",
    "        case _                => sys.error(\"\")\n",
    "    }\n",
    "    \n",
    "    if (0 <= i && i <= k) slice(i, k, list) else sys.error(\"\")\n",
    "}"
   ]
  },
  {
   "cell_type": "code",
   "execution_count": 144,
   "metadata": {},
   "outputs": [
    {
     "data": {
      "text/plain": [
       "\u001b[36mres143\u001b[39m: \u001b[32mList\u001b[39m[\u001b[32mSymbol\u001b[39m] = \u001b[33mList\u001b[39m(\u001b[32m'd\u001b[39m, \u001b[32m'e\u001b[39m, \u001b[32m'f\u001b[39m, \u001b[32m'g\u001b[39m)"
      ]
     },
     "execution_count": 144,
     "metadata": {},
     "output_type": "execute_result"
    }
   ],
   "source": [
    "slice(3, 7, List('a, 'b, 'c, 'd, 'e, 'f, 'g, 'h, 'i, 'j, 'k))\n",
    "// res0: List[Symbol] = List('d, 'e, 'f, 'g)"
   ]
  },
  {
   "cell_type": "code",
   "execution_count": 146,
   "metadata": {},
   "outputs": [
    {
     "data": {
      "text/plain": [
       "\u001b[36mres145\u001b[39m: \u001b[32mList\u001b[39m[\u001b[32mSymbol\u001b[39m] = \u001b[33mList\u001b[39m(\u001b[32m'd\u001b[39m, \u001b[32m'e\u001b[39m, \u001b[32m'f\u001b[39m, \u001b[32m'g\u001b[39m)"
      ]
     },
     "execution_count": 146,
     "metadata": {},
     "output_type": "execute_result"
    }
   ],
   "source": [
    "p18(3, 7, List('a, 'b, 'c, 'd, 'e, 'f, 'g, 'h, 'i, 'j, 'k))"
   ]
  },
  {
   "cell_type": "markdown",
   "metadata": {},
   "source": [
    "# P19 (**) Rotate a list N places to the left."
   ]
  },
  {
   "cell_type": "code",
   "execution_count": 167,
   "metadata": {},
   "outputs": [
    {
     "data": {
      "text/plain": [
       "defined \u001b[32mfunction\u001b[39m \u001b[36mrotate\u001b[39m"
      ]
     },
     "execution_count": 167,
     "metadata": {},
     "output_type": "execute_result"
    }
   ],
   "source": [
    "def rotate[A](n: Int, list: List[A]): List[Any] = n match {\n",
    "    case x if x >= 0 => flatten(split(n, list).reverse)\n",
    "    case x if x < 0 => flatten(split(list.length + n, list).reverse)\n",
    "}"
   ]
  },
  {
   "cell_type": "code",
   "execution_count": 168,
   "metadata": {},
   "outputs": [
    {
     "data": {
      "text/plain": [
       "\u001b[36mres167\u001b[39m: \u001b[32mList\u001b[39m[\u001b[32mAny\u001b[39m] = \u001b[33mList\u001b[39m('d, 'e, 'f, 'g, 'h, 'i, 'j, 'k, 'a, 'b, 'c)"
      ]
     },
     "execution_count": 168,
     "metadata": {},
     "output_type": "execute_result"
    }
   ],
   "source": [
    "rotate(3, List('a, 'b, 'c, 'd, 'e, 'f, 'g, 'h, 'i, 'j, 'k))\n",
    "// res0: List[Symbol] = List('d, 'e, 'f, 'g, 'h, 'i, 'j, 'k, 'a, 'b, 'c)"
   ]
  },
  {
   "cell_type": "code",
   "execution_count": 169,
   "metadata": {},
   "outputs": [
    {
     "data": {
      "text/plain": [
       "\u001b[36mres168\u001b[39m: \u001b[32mList\u001b[39m[\u001b[32mAny\u001b[39m] = \u001b[33mList\u001b[39m('j, 'k, 'a, 'b, 'c, 'd, 'e, 'f, 'g, 'h, 'i)"
      ]
     },
     "execution_count": 169,
     "metadata": {},
     "output_type": "execute_result"
    }
   ],
   "source": [
    "rotate(-2, List('a, 'b, 'c, 'd, 'e, 'f, 'g, 'h, 'i, 'j, 'k))\n",
    "// res1: List[Symbol] = List('j, 'k, 'a, 'b, 'c, 'd, 'e, 'f, 'g, 'h, 'i)"
   ]
  },
  {
   "cell_type": "markdown",
   "metadata": {},
   "source": [
    "# P20 (*) Remove the Kth element from a list."
   ]
  },
  {
   "cell_type": "code",
   "execution_count": 22,
   "metadata": {},
   "outputs": [
    {
     "data": {
      "text/plain": [
       "defined \u001b[32mfunction\u001b[39m \u001b[36mremoveAt\u001b[39m"
      ]
     },
     "execution_count": 22,
     "metadata": {},
     "output_type": "execute_result"
    }
   ],
   "source": [
    "def removeAt[A](n: Int, list: List[A]): (List[A], A) = {\n",
    "    val temp = split(n, list)\n",
    "    ((temp(0) ::: temp(1).tail), temp(1).head)\n",
    "}"
   ]
  },
  {
   "cell_type": "code",
   "execution_count": 23,
   "metadata": {},
   "outputs": [
    {
     "data": {
      "text/plain": [
       "\u001b[36mres22\u001b[39m: (\u001b[32mList\u001b[39m[\u001b[32mSymbol\u001b[39m], \u001b[32mSymbol\u001b[39m) = (\u001b[33mList\u001b[39m(\u001b[32m'a\u001b[39m, \u001b[32m'c\u001b[39m, \u001b[32m'd\u001b[39m), \u001b[32m'b\u001b[39m)"
      ]
     },
     "execution_count": 23,
     "metadata": {},
     "output_type": "execute_result"
    }
   ],
   "source": [
    "removeAt(1, List('a, 'b, 'c, 'd))\n",
    "// res0: (List[Symbol], Symbol) = (List('a, 'c, 'd),'b)"
   ]
  },
  {
   "cell_type": "markdown",
   "metadata": {},
   "source": [
    "# P21 (*) Insert an element at a given position into a list."
   ]
  },
  {
   "cell_type": "code",
   "execution_count": 202,
   "metadata": {},
   "outputs": [
    {
     "data": {
      "text/plain": [
       "defined \u001b[32mfunction\u001b[39m \u001b[36minsertAt\u001b[39m"
      ]
     },
     "execution_count": 202,
     "metadata": {},
     "output_type": "execute_result"
    }
   ],
   "source": [
    "def insertAt[A](e: A, n: Int, list: List[A]): List[A] = {\n",
    "    split(n, list)(0) ::: (e :: split(n, list)(1))\n",
    "}"
   ]
  },
  {
   "cell_type": "code",
   "execution_count": 203,
   "metadata": {},
   "outputs": [
    {
     "data": {
      "text/plain": [
       "\u001b[36mres202\u001b[39m: \u001b[32mList\u001b[39m[\u001b[32mSymbol\u001b[39m] = \u001b[33mList\u001b[39m(\u001b[32m'a\u001b[39m, \u001b[32m'new\u001b[39m, \u001b[32m'b\u001b[39m, \u001b[32m'c\u001b[39m, \u001b[32m'd\u001b[39m)"
      ]
     },
     "execution_count": 203,
     "metadata": {},
     "output_type": "execute_result"
    }
   ],
   "source": [
    "insertAt('new, 1, List('a, 'b, 'c, 'd))\n",
    "// res0: List[Symbol] = List('a, 'new, 'b, 'c, 'd)"
   ]
  },
  {
   "cell_type": "markdown",
   "metadata": {},
   "source": [
    "# P22 (*) Create a list containing all integers within a given range."
   ]
  },
  {
   "cell_type": "code",
   "execution_count": 27,
   "metadata": {},
   "outputs": [
    {
     "data": {
      "text/plain": [
       "defined \u001b[32mfunction\u001b[39m \u001b[36mrange\u001b[39m"
      ]
     },
     "execution_count": 27,
     "metadata": {},
     "output_type": "execute_result"
    }
   ],
   "source": [
    "def range(n: Int, m: Int): List[Int] = {\n",
    "    \n",
    "    def loop(n: Int, m: Int, acc: List[Int]): List[Int] = {\n",
    "        if (n > m) acc.reverse\n",
    "        else       loop(n+1, m, n :: acc)\n",
    "    }\n",
    "    \n",
    "    loop(n, m, Nil)\n",
    "}"
   ]
  },
  {
   "cell_type": "code",
   "execution_count": 218,
   "metadata": {},
   "outputs": [
    {
     "data": {
      "text/plain": [
       "\u001b[36mres217\u001b[39m: \u001b[32mList\u001b[39m[\u001b[32mInt\u001b[39m] = \u001b[33mList\u001b[39m(\u001b[32m4\u001b[39m, \u001b[32m5\u001b[39m, \u001b[32m6\u001b[39m, \u001b[32m7\u001b[39m, \u001b[32m8\u001b[39m, \u001b[32m9\u001b[39m)"
      ]
     },
     "execution_count": 218,
     "metadata": {},
     "output_type": "execute_result"
    }
   ],
   "source": [
    "range(4, 9)\n",
    "// res0: List[Int] = List(4, 5, 6, 7, 8, 9)"
   ]
  },
  {
   "cell_type": "markdown",
   "metadata": {},
   "source": [
    "# P23 (**) Extract a given number of randomly selected elements from a list."
   ]
  },
  {
   "cell_type": "code",
   "execution_count": 33,
   "metadata": {},
   "outputs": [
    {
     "data": {
      "text/plain": [
       "defined \u001b[32mfunction\u001b[39m \u001b[36mrandomSelect\u001b[39m"
      ]
     },
     "execution_count": 33,
     "metadata": {},
     "output_type": "execute_result"
    }
   ],
   "source": [
    "def randomSelect[A](n: Int, list: List[A]): List[A] = {\n",
    "    \n",
    "    def length[A](list: List[A]): Int = {\n",
    "        def loop[A](list: List[A], acc: Int): Int = list match {\n",
    "            case x::xs => loop(xs, acc+1)\n",
    "            case Nil => acc\n",
    "            case _ => sys.error(\"wrong\")\n",
    "        }\n",
    "        loop(list, 0)\n",
    "    }\n",
    "    \n",
    "    def randomSelectRec[T](n: Int, len: Int, list: List[T]): List[T] = {\n",
    "        if (n == 0) List[T]()\n",
    "        \n",
    "        else if (n > 0) {\n",
    "            val (rest, e) = removeAt((scala.math.random * len).toInt, list)\n",
    "            e :: randomSelectRec(n-1, len-1, rest)\n",
    "        }\n",
    "        \n",
    "        else sys.error(\"\")\n",
    "    }\n",
    "    \n",
    "    val len = length(list)\n",
    "    if (n <= len) randomSelectRec(n, len, list) else sys.error(\"\")\n",
    "}"
   ]
  },
  {
   "cell_type": "code",
   "execution_count": 34,
   "metadata": {},
   "outputs": [
    {
     "data": {
      "text/plain": [
       "\u001b[36mres33\u001b[39m: \u001b[32mList\u001b[39m[\u001b[32mSymbol\u001b[39m] = \u001b[33mList\u001b[39m(\u001b[32m'a\u001b[39m, \u001b[32m'g\u001b[39m, \u001b[32m'd\u001b[39m)"
      ]
     },
     "execution_count": 34,
     "metadata": {},
     "output_type": "execute_result"
    }
   ],
   "source": [
    "randomSelect(3, List('a, 'b, 'c, 'd, 'f, 'g, 'h))\n",
    "// res0: List[Symbol] = List('e, 'd, 'a)"
   ]
  },
  {
   "cell_type": "markdown",
   "metadata": {},
   "source": [
    "# P24 (*) Lotto: Draw N different random numbers from the set 1..M."
   ]
  },
  {
   "cell_type": "code",
   "execution_count": 28,
   "metadata": {},
   "outputs": [
    {
     "data": {
      "text/plain": [
       "defined \u001b[32mfunction\u001b[39m \u001b[36mlotto\u001b[39m"
      ]
     },
     "execution_count": 28,
     "metadata": {},
     "output_type": "execute_result"
    }
   ],
   "source": [
    "def lotto(n: Int, m: Int): Unit = {\n",
    "    randomSelect(n, range(1, m))\n",
    "}"
   ]
  },
  {
   "cell_type": "code",
   "execution_count": 29,
   "metadata": {},
   "outputs": [],
   "source": [
    "lotto(6, 49)\n",
    "// res0: List[Int] = List(23, 1, 17, 33, 21, 37)"
   ]
  },
  {
   "cell_type": "markdown",
   "metadata": {},
   "source": [
    "# P25 (*) Generate a random permutation of the elements of a list."
   ]
  },
  {
   "cell_type": "code",
   "execution_count": 35,
   "metadata": {},
   "outputs": [
    {
     "data": {
      "text/plain": [
       "defined \u001b[32mfunction\u001b[39m \u001b[36mrandomPermute\u001b[39m"
      ]
     },
     "execution_count": 35,
     "metadata": {},
     "output_type": "execute_result"
    }
   ],
   "source": [
    "def randomPermute[T](list: List[T]): List[T] = {\n",
    "    randomSelect(list.length, list)\n",
    "}\n"
   ]
  },
  {
   "cell_type": "code",
   "execution_count": 36,
   "metadata": {},
   "outputs": [
    {
     "data": {
      "text/plain": [
       "\u001b[36mres35\u001b[39m: \u001b[32mList\u001b[39m[\u001b[32mSymbol\u001b[39m] = \u001b[33mList\u001b[39m(\u001b[32m'a\u001b[39m, \u001b[32m'f\u001b[39m, \u001b[32m'e\u001b[39m, \u001b[32m'c\u001b[39m, \u001b[32m'b\u001b[39m, \u001b[32m'd\u001b[39m)"
      ]
     },
     "execution_count": 36,
     "metadata": {},
     "output_type": "execute_result"
    }
   ],
   "source": [
    "randomPermute(List('a, 'b, 'c, 'd, 'e, 'f))\n",
    "//res0: List[Symbol] = List('b, 'a, 'd, 'c, 'e, 'f)"
   ]
  },
  {
   "cell_type": "markdown",
   "metadata": {},
   "source": [
    "# P26 (**) Generate the combinations of K distinct objects chosen from the N elements of a list.\n",
    "\n",
    "In how many ways can a committee of 3 be chosen from a group of 12 people? We all know that there are C(12,3) = 220 possibilities (C(N,K) denotes the well-known binomial coefficient). For pure mathematicians, this result may be great. But we want to really generate all the possibilities."
   ]
  },
  {
   "cell_type": "code",
   "execution_count": 40,
   "metadata": {},
   "outputs": [
    {
     "name": "stderr",
     "output_type": "stream",
     "text": [
      "cmd40.sc:8: not found: value append\n",
      "            append(map(groupInto(n-1, k-1, xs)) { a =>\n",
      "            ^cmd40.sc:8: not found: value map\n",
      "            append(map(groupInto(n-1, k-1, xs)) { a =>\n",
      "                   ^cmd40.sc:10: not found: value map\n",
      "            }, map(groupInto(n-1, k, xs)) { a =>\n",
      "               ^cmd40.sc:17: not found: value map\n",
      "    map(groupInto(length(list), k, list))(_._1).map(_.sorted).distinct\n",
      "    ^"
     ]
    },
    {
     "ename": "",
     "evalue": "",
     "output_type": "error",
     "traceback": [
      "Compilation Failed"
     ]
    }
   ],
   "source": [
    "\n",
    "def combinations[T](n: Int, list: List[T]): List[List[T]] = {\n",
    "    \n",
    "\n",
    "}"
   ]
  },
  {
   "cell_type": "code",
   "execution_count": null,
   "metadata": {},
   "outputs": [],
   "source": [
    "combinations(3, List('a, 'b, 'c, 'd, 'e, 'f))\n",
    "//res0: List[List[Symbol]] = List(List('a, 'b, 'c), List('a, 'b, 'd), List('a, 'b, 'e), ..."
   ]
  },
  {
   "cell_type": "code",
   "execution_count": null,
   "metadata": {},
   "outputs": [],
   "source": []
  },
  {
   "cell_type": "markdown",
   "metadata": {},
   "source": [
    "# P27 (**) Group the elements of a set into disjoint subsets.\n",
    "\n",
    "a) In how many ways can a group of 9 people work in 3 disjoint subgroups of 2, 3 and 4 persons? Write a function that generates all the possibilities.\n",
    "Example:\n",
    "```\n",
    "scala> group3(List(\"Aldo\", \"Beat\", \"Carla\", \"David\", \"Evi\", \"Flip\", \"Gary\", \"Hugo\", \"Ida\"))\n",
    "res0: List[List[List[String]]] = List(List(List(Aldo, Beat), List(Carla, David, Evi), List(Flip, Gary, Hugo, Ida)), ...\n",
    "```\n",
    "b) Generalize the above predicate in a way that we can specify a list of group sizes and the predicate will return a list of groups.\n",
    "\n",
    "Example:\n",
    "```\n",
    "scala> group(List(2, 2, 5), List(\"Aldo\", \"Beat\", \"Carla\", \"David\", \"Evi\", \"Flip\", \"Gary\", \"Hugo\", \"Ida\"))\n",
    "res0: List[List[List[String]]] = List(List(List(Aldo, Beat), List(Carla, David), List(Evi, Flip, Gary, Hugo, Ida)), ...\n",
    "```\n",
    "Note that we do not want permutations of the group members; i.e. ((Aldo, Beat), ...) is the same solution as ((Beat, Aldo), ...). However, we make a difference between ((Aldo, Beat), (Carla, David), ...) and ((Carla, David), (Aldo, Beat), ...).\n",
    "\n",
    "You may find more about this combinatorial problem in a good book on discrete mathematics under the term \"multinomial coefficients\"."
   ]
  },
  {
   "cell_type": "markdown",
   "metadata": {},
   "source": [
    "# P28 (**) Sorting a list of lists according to length of sublists.\n",
    "\n",
    "a) We suppose that a list contains elements that are lists themselves. The objective is to sort the elements of the list according to their length. E.g. short lists first, longer lists later, or vice versa.\n",
    "Example:\n",
    "\n",
    "```\n",
    "scala> lsort(List(List('a, 'b, 'c), List('d, 'e), List('f, 'g, 'h), List('d, 'e), List('i, 'j, 'k, 'l), List('m, 'n), List('o)))\n",
    "res0: List[List[Symbol]] = List(List('o), List('d, 'e), List('d, 'e), List('m, 'n), List('a, 'b, 'c), List('f, 'g, 'h), List('i, 'j, 'k, 'l))\n",
    "```\n",
    "\n",
    "b) Again, we suppose that a list contains elements that are lists themselves. But this time the objective is to sort the elements according to their length frequency; i.e. in the default, sorting is done ascendingly, lists with rare lengths are placed, others with a more frequent length come later.\n",
    "\n",
    "Example:\n",
    "\n",
    "```\n",
    "scala> lsortFreq(List(List('a, 'b, 'c), List('d, 'e), List('f, 'g, 'h), List('d, 'e), List('i, 'j, 'k, 'l), List('m, 'n), List('o)))\n",
    "res1: List[List[Symbol]] = List(List('i, 'j, 'k, 'l), List('o), List('a, 'b, 'c), List('f, 'g, 'h), List('d, 'e), List('d, 'e), List('m, 'n))\n",
    "```\n",
    "\n",
    "Note that in the above example, the first two lists in the result have length 4 and 1 and both lengths appear just once. The third and fourth lists have length 3 and there are two list of this length. Finally, the last three lists have length 2. This is the most frequent length."
   ]
  },
  {
   "cell_type": "code",
   "execution_count": null,
   "metadata": {},
   "outputs": [],
   "source": []
  },
  {
   "cell_type": "markdown",
   "metadata": {},
   "source": [
    "# Arithmetic"
   ]
  },
  {
   "cell_type": "markdown",
   "metadata": {},
   "source": [
    "## P31 (**) Determine whether a given integer number is prime."
   ]
  },
  {
   "cell_type": "code",
   "execution_count": 56,
   "metadata": {},
   "outputs": [
    {
     "data": {
      "text/plain": [
       "defined \u001b[32mclass\u001b[39m \u001b[36mRichInt\u001b[39m"
      ]
     },
     "execution_count": 56,
     "metadata": {},
     "output_type": "execute_result"
    }
   ],
   "source": [
    "implicit class RichInt(self: Int) {\n",
    "    \n",
    "    def isPrime(): Boolean = {\n",
    "//         val nums = 2 to self\n",
    "//         (self > 1) && nums.takeWhile(_ <= Math.sqrt(self)).forall(self % _ != 0)\n",
    "        (self > 1) && (2 to Math.sqrt(self).toInt).forall(self % _ != 0)\n",
    "    }\n",
    "}"
   ]
  },
  {
   "cell_type": "code",
   "execution_count": 60,
   "metadata": {},
   "outputs": [
    {
     "data": {
      "text/plain": [
       "\u001b[36mres59\u001b[39m: \u001b[32mBoolean\u001b[39m = \u001b[32mtrue\u001b[39m"
      ]
     },
     "execution_count": 60,
     "metadata": {},
     "output_type": "execute_result"
    }
   ],
   "source": [
    "131.isPrime\n",
    "// res0: Boolean = true"
   ]
  },
  {
   "cell_type": "markdown",
   "metadata": {},
   "source": [
    "## P32 (**) Determine the greatest common divisor of two positive integer numbers."
   ]
  },
  {
   "cell_type": "code",
   "execution_count": 77,
   "metadata": {},
   "outputs": [
    {
     "data": {
      "text/plain": [
       "defined \u001b[32mfunction\u001b[39m \u001b[36mgcd\u001b[39m"
      ]
     },
     "execution_count": 77,
     "metadata": {},
     "output_type": "execute_result"
    }
   ],
   "source": [
    "def gcd(a: Int, b: Int): Int = b match {\n",
    "    case 0 => a\n",
    "    case _ => gcd(b, a % b)\n",
    "}"
   ]
  },
  {
   "cell_type": "code",
   "execution_count": 78,
   "metadata": {},
   "outputs": [
    {
     "data": {
      "text/plain": [
       "\u001b[36mres77\u001b[39m: \u001b[32mInt\u001b[39m = \u001b[32m9\u001b[39m"
      ]
     },
     "execution_count": 78,
     "metadata": {},
     "output_type": "execute_result"
    }
   ],
   "source": [
    "gcd(36, 63)\n",
    "// res0: Int = 9"
   ]
  },
  {
   "cell_type": "code",
   "execution_count": 83,
   "metadata": {},
   "outputs": [
    {
     "data": {
      "text/plain": [
       "defined \u001b[32mfunction\u001b[39m \u001b[36mgcd2\u001b[39m"
      ]
     },
     "execution_count": 83,
     "metadata": {},
     "output_type": "execute_result"
    }
   ],
   "source": [
    "// with Euclid's algorithm.\n",
    "\n",
    "def gcd2(x: Int, y: Int): Int = {\n",
    "    def loop(x: Int, y: Int): Int = {\n",
    "        if (x.abs > y.abs)\n",
    "        if (y.abs == 0) x.abs\n",
    "        else loop(y, x % y)\n",
    "        else if (x.abs < y.abs)\n",
    "        if (x.abs == 0) y.abs\n",
    "        else loop(x, y % x)\n",
    "        else\n",
    "        x.abs\n",
    "    }\n",
    "    if (x == 0) y.abs else if (y == 0) x.abs else loop(x, y)\n",
    "}\n"
   ]
  },
  {
   "cell_type": "code",
   "execution_count": null,
   "metadata": {},
   "outputs": [],
   "source": []
  },
  {
   "cell_type": "code",
   "execution_count": null,
   "metadata": {},
   "outputs": [],
   "source": []
  },
  {
   "cell_type": "code",
   "execution_count": null,
   "metadata": {},
   "outputs": [],
   "source": []
  },
  {
   "cell_type": "code",
   "execution_count": null,
   "metadata": {},
   "outputs": [],
   "source": []
  }
 ],
 "metadata": {
  "kernelspec": {
   "display_name": "Scala",
   "language": "scala",
   "name": "scala"
  },
  "language_info": {
   "codemirror_mode": "text/x-scala",
   "file_extension": ".scala",
   "mimetype": "text/x-scala",
   "name": "scala211",
   "nbconvert_exporter": "script",
   "pygments_lexer": "scala",
   "version": "2.11.11"
  }
 },
 "nbformat": 4,
 "nbformat_minor": 2
}
